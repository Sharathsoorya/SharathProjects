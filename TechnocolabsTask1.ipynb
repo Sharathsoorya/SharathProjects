{
  "nbformat": 4,
  "nbformat_minor": 0,
  "metadata": {
    "colab": {
      "provenance": [],
      "collapsed_sections": []
    },
    "kernelspec": {
      "name": "python3",
      "display_name": "Python 3"
    },
    "language_info": {
      "name": "python"
    },
    "accelerator": "GPU"
  },
  "cells": [
    {
      "cell_type": "code",
      "source": [
        "import pandas as pd\n",
        "import numpy as np"
      ],
      "metadata": {
        "id": "o4po57yb_Q8Z"
      },
      "execution_count": 2,
      "outputs": []
    },
    {
      "cell_type": "code",
      "source": [
        "from google.colab import files\n",
        "uploaded = files.upload()"
      ],
      "metadata": {
        "id": "-DCbwZj7_V3C",
        "colab": {
          "base_uri": "https://localhost:8080/",
          "height": 72
        },
        "outputId": "c822aed8-5fc5-4cb2-b87d-e1dde2fcec5e"
      },
      "execution_count": 1,
      "outputs": [
        {
          "output_type": "display_data",
          "data": {
            "text/plain": [
              "<IPython.core.display.HTML object>"
            ],
            "text/html": [
              "\n",
              "     <input type=\"file\" id=\"files-e220cf1d-f1f4-42fd-9b3b-4284e5c3063a\" name=\"files[]\" multiple disabled\n",
              "        style=\"border:none\" />\n",
              "     <output id=\"result-e220cf1d-f1f4-42fd-9b3b-4284e5c3063a\">\n",
              "      Upload widget is only available when the cell has been executed in the\n",
              "      current browser session. Please rerun this cell to enable.\n",
              "      </output>\n",
              "      <script>// Copyright 2017 Google LLC\n",
              "//\n",
              "// Licensed under the Apache License, Version 2.0 (the \"License\");\n",
              "// you may not use this file except in compliance with the License.\n",
              "// You may obtain a copy of the License at\n",
              "//\n",
              "//      http://www.apache.org/licenses/LICENSE-2.0\n",
              "//\n",
              "// Unless required by applicable law or agreed to in writing, software\n",
              "// distributed under the License is distributed on an \"AS IS\" BASIS,\n",
              "// WITHOUT WARRANTIES OR CONDITIONS OF ANY KIND, either express or implied.\n",
              "// See the License for the specific language governing permissions and\n",
              "// limitations under the License.\n",
              "\n",
              "/**\n",
              " * @fileoverview Helpers for google.colab Python module.\n",
              " */\n",
              "(function(scope) {\n",
              "function span(text, styleAttributes = {}) {\n",
              "  const element = document.createElement('span');\n",
              "  element.textContent = text;\n",
              "  for (const key of Object.keys(styleAttributes)) {\n",
              "    element.style[key] = styleAttributes[key];\n",
              "  }\n",
              "  return element;\n",
              "}\n",
              "\n",
              "// Max number of bytes which will be uploaded at a time.\n",
              "const MAX_PAYLOAD_SIZE = 100 * 1024;\n",
              "\n",
              "function _uploadFiles(inputId, outputId) {\n",
              "  const steps = uploadFilesStep(inputId, outputId);\n",
              "  const outputElement = document.getElementById(outputId);\n",
              "  // Cache steps on the outputElement to make it available for the next call\n",
              "  // to uploadFilesContinue from Python.\n",
              "  outputElement.steps = steps;\n",
              "\n",
              "  return _uploadFilesContinue(outputId);\n",
              "}\n",
              "\n",
              "// This is roughly an async generator (not supported in the browser yet),\n",
              "// where there are multiple asynchronous steps and the Python side is going\n",
              "// to poll for completion of each step.\n",
              "// This uses a Promise to block the python side on completion of each step,\n",
              "// then passes the result of the previous step as the input to the next step.\n",
              "function _uploadFilesContinue(outputId) {\n",
              "  const outputElement = document.getElementById(outputId);\n",
              "  const steps = outputElement.steps;\n",
              "\n",
              "  const next = steps.next(outputElement.lastPromiseValue);\n",
              "  return Promise.resolve(next.value.promise).then((value) => {\n",
              "    // Cache the last promise value to make it available to the next\n",
              "    // step of the generator.\n",
              "    outputElement.lastPromiseValue = value;\n",
              "    return next.value.response;\n",
              "  });\n",
              "}\n",
              "\n",
              "/**\n",
              " * Generator function which is called between each async step of the upload\n",
              " * process.\n",
              " * @param {string} inputId Element ID of the input file picker element.\n",
              " * @param {string} outputId Element ID of the output display.\n",
              " * @return {!Iterable<!Object>} Iterable of next steps.\n",
              " */\n",
              "function* uploadFilesStep(inputId, outputId) {\n",
              "  const inputElement = document.getElementById(inputId);\n",
              "  inputElement.disabled = false;\n",
              "\n",
              "  const outputElement = document.getElementById(outputId);\n",
              "  outputElement.innerHTML = '';\n",
              "\n",
              "  const pickedPromise = new Promise((resolve) => {\n",
              "    inputElement.addEventListener('change', (e) => {\n",
              "      resolve(e.target.files);\n",
              "    });\n",
              "  });\n",
              "\n",
              "  const cancel = document.createElement('button');\n",
              "  inputElement.parentElement.appendChild(cancel);\n",
              "  cancel.textContent = 'Cancel upload';\n",
              "  const cancelPromise = new Promise((resolve) => {\n",
              "    cancel.onclick = () => {\n",
              "      resolve(null);\n",
              "    };\n",
              "  });\n",
              "\n",
              "  // Wait for the user to pick the files.\n",
              "  const files = yield {\n",
              "    promise: Promise.race([pickedPromise, cancelPromise]),\n",
              "    response: {\n",
              "      action: 'starting',\n",
              "    }\n",
              "  };\n",
              "\n",
              "  cancel.remove();\n",
              "\n",
              "  // Disable the input element since further picks are not allowed.\n",
              "  inputElement.disabled = true;\n",
              "\n",
              "  if (!files) {\n",
              "    return {\n",
              "      response: {\n",
              "        action: 'complete',\n",
              "      }\n",
              "    };\n",
              "  }\n",
              "\n",
              "  for (const file of files) {\n",
              "    const li = document.createElement('li');\n",
              "    li.append(span(file.name, {fontWeight: 'bold'}));\n",
              "    li.append(span(\n",
              "        `(${file.type || 'n/a'}) - ${file.size} bytes, ` +\n",
              "        `last modified: ${\n",
              "            file.lastModifiedDate ? file.lastModifiedDate.toLocaleDateString() :\n",
              "                                    'n/a'} - `));\n",
              "    const percent = span('0% done');\n",
              "    li.appendChild(percent);\n",
              "\n",
              "    outputElement.appendChild(li);\n",
              "\n",
              "    const fileDataPromise = new Promise((resolve) => {\n",
              "      const reader = new FileReader();\n",
              "      reader.onload = (e) => {\n",
              "        resolve(e.target.result);\n",
              "      };\n",
              "      reader.readAsArrayBuffer(file);\n",
              "    });\n",
              "    // Wait for the data to be ready.\n",
              "    let fileData = yield {\n",
              "      promise: fileDataPromise,\n",
              "      response: {\n",
              "        action: 'continue',\n",
              "      }\n",
              "    };\n",
              "\n",
              "    // Use a chunked sending to avoid message size limits. See b/62115660.\n",
              "    let position = 0;\n",
              "    do {\n",
              "      const length = Math.min(fileData.byteLength - position, MAX_PAYLOAD_SIZE);\n",
              "      const chunk = new Uint8Array(fileData, position, length);\n",
              "      position += length;\n",
              "\n",
              "      const base64 = btoa(String.fromCharCode.apply(null, chunk));\n",
              "      yield {\n",
              "        response: {\n",
              "          action: 'append',\n",
              "          file: file.name,\n",
              "          data: base64,\n",
              "        },\n",
              "      };\n",
              "\n",
              "      let percentDone = fileData.byteLength === 0 ?\n",
              "          100 :\n",
              "          Math.round((position / fileData.byteLength) * 100);\n",
              "      percent.textContent = `${percentDone}% done`;\n",
              "\n",
              "    } while (position < fileData.byteLength);\n",
              "  }\n",
              "\n",
              "  // All done.\n",
              "  yield {\n",
              "    response: {\n",
              "      action: 'complete',\n",
              "    }\n",
              "  };\n",
              "}\n",
              "\n",
              "scope.google = scope.google || {};\n",
              "scope.google.colab = scope.google.colab || {};\n",
              "scope.google.colab._files = {\n",
              "  _uploadFiles,\n",
              "  _uploadFilesContinue,\n",
              "};\n",
              "})(self);\n",
              "</script> "
            ]
          },
          "metadata": {}
        },
        {
          "output_type": "stream",
          "name": "stdout",
          "text": [
            "Saving Bondora_raw.csv to Bondora_raw.csv\n"
          ]
        }
      ]
    },
    {
      "cell_type": "code",
      "source": [
        "df = pd.read_csv('Bondora_raw.csv')"
      ],
      "metadata": {
        "id": "QUj85I6t_Vzv",
        "colab": {
          "base_uri": "https://localhost:8080/"
        },
        "outputId": "b16239db-d0f4-4686-cdd8-72137bd29703"
      },
      "execution_count": 3,
      "outputs": [
        {
          "output_type": "stream",
          "name": "stderr",
          "text": [
            "/usr/local/lib/python3.7/dist-packages/IPython/core/interactiveshell.py:3326: DtypeWarning: Columns (34,37,38,80,82,83,89,90) have mixed types.Specify dtype option on import or set low_memory=False.\n",
            "  exec(code_obj, self.user_global_ns, self.user_ns)\n"
          ]
        }
      ]
    },
    {
      "cell_type": "code",
      "source": [
        "dfs = pd.read_csv('Bondora_raw.csv', low_memory=False)"
      ],
      "metadata": {
        "id": "iN8RK6UF_Vx9"
      },
      "execution_count": 4,
      "outputs": []
    },
    {
      "cell_type": "code",
      "source": [
        "dfs.shape"
      ],
      "metadata": {
        "id": "GH36xNg3_Vvt",
        "colab": {
          "base_uri": "https://localhost:8080/"
        },
        "outputId": "fb793425-e7bb-42e6-87db-009bb391516b"
      },
      "execution_count": 5,
      "outputs": [
        {
          "output_type": "execute_result",
          "data": {
            "text/plain": [
              "(134529, 112)"
            ]
          },
          "metadata": {},
          "execution_count": 5
        }
      ]
    },
    {
      "cell_type": "code",
      "source": [
        "dfs.head()"
      ],
      "metadata": {
        "id": "_EVkzg3F_Vte",
        "colab": {
          "base_uri": "https://localhost:8080/",
          "height": 560
        },
        "outputId": "542bb859-2920-46a1-a23f-ae0ea8ace1fc"
      },
      "execution_count": 6,
      "outputs": [
        {
          "output_type": "execute_result",
          "data": {
            "text/plain": [
              "  ReportAsOfEOD                                LoanId  LoanNumber  \\\n",
              "0    2020-01-27  F0660C80-83F3-4A97-8DA0-9C250112D6EC         659   \n",
              "1    2020-01-27  978BB85B-1C69-4D51-8447-9C240104A3A2         654   \n",
              "2    2020-01-27  EA44027E-7FA7-4BB2-846D-9C1F013C8A22         641   \n",
              "3    2020-01-27  CE67AD25-2951-4BEE-96BD-9C2700C61EF4         668   \n",
              "4    2020-01-27  9408BF8C-B159-4D6A-9D61-9C2400A986E3         652   \n",
              "\n",
              "           ListedOnUTC     BiddingStartedOn  BidsPortfolioManager  BidsApi  \\\n",
              "0  2009-06-11 16:40:39  2009-06-11 16:40:39                     0        0   \n",
              "1  2009-06-10 15:48:57  2009-06-10 15:48:57                     0        0   \n",
              "2  2009-06-05 19:12:29  2009-06-05 19:12:29                     0        0   \n",
              "3  2009-06-13 12:01:20  2009-06-13 12:01:20                     0        0   \n",
              "4  2009-06-10 10:17:13  2009-06-10 10:17:13                     0        0   \n",
              "\n",
              "   BidsManual  UserName  NewCreditCustomer  ...  \\\n",
              "0    115.0410      KARU               True  ...   \n",
              "1    140.6057  koort681              False  ...   \n",
              "2    319.5580       0ie               True  ...   \n",
              "3     57.5205    Alyona               True  ...   \n",
              "4    319.5582       Kai               True  ...   \n",
              "\n",
              "  PreviousEarlyRepaymentsCountBeforeLoan GracePeriodStart GracePeriodEnd  \\\n",
              "0                                      0              NaN            NaN   \n",
              "1                                      0              NaN            NaN   \n",
              "2                                      0              NaN            NaN   \n",
              "3                                      0              NaN            NaN   \n",
              "4                                      0              NaN            NaN   \n",
              "\n",
              "  NextPaymentDate NextPaymentNr NrOfScheduledPayments  ReScheduledOn  \\\n",
              "0             NaN           NaN                   NaN            NaN   \n",
              "1             NaN           NaN                   NaN            NaN   \n",
              "2             NaN           NaN                   NaN            NaN   \n",
              "3             NaN           NaN                   NaN            NaN   \n",
              "4             NaN           NaN                   NaN            NaN   \n",
              "\n",
              "   PrincipalDebtServicingCost  InterestAndPenaltyDebtServicingCost  \\\n",
              "0                         0.0                                  0.0   \n",
              "1                         0.0                                  0.0   \n",
              "2                         0.0                                  0.0   \n",
              "3                         0.0                                  0.0   \n",
              "4                         0.0                                  0.0   \n",
              "\n",
              "   ActiveLateLastPaymentCategory  \n",
              "0                            NaN  \n",
              "1                            NaN  \n",
              "2                           180+  \n",
              "3                            NaN  \n",
              "4                           180+  \n",
              "\n",
              "[5 rows x 112 columns]"
            ],
            "text/html": [
              "\n",
              "  <div id=\"df-ee208431-4395-46ed-9182-cb6368164517\">\n",
              "    <div class=\"colab-df-container\">\n",
              "      <div>\n",
              "<style scoped>\n",
              "    .dataframe tbody tr th:only-of-type {\n",
              "        vertical-align: middle;\n",
              "    }\n",
              "\n",
              "    .dataframe tbody tr th {\n",
              "        vertical-align: top;\n",
              "    }\n",
              "\n",
              "    .dataframe thead th {\n",
              "        text-align: right;\n",
              "    }\n",
              "</style>\n",
              "<table border=\"1\" class=\"dataframe\">\n",
              "  <thead>\n",
              "    <tr style=\"text-align: right;\">\n",
              "      <th></th>\n",
              "      <th>ReportAsOfEOD</th>\n",
              "      <th>LoanId</th>\n",
              "      <th>LoanNumber</th>\n",
              "      <th>ListedOnUTC</th>\n",
              "      <th>BiddingStartedOn</th>\n",
              "      <th>BidsPortfolioManager</th>\n",
              "      <th>BidsApi</th>\n",
              "      <th>BidsManual</th>\n",
              "      <th>UserName</th>\n",
              "      <th>NewCreditCustomer</th>\n",
              "      <th>...</th>\n",
              "      <th>PreviousEarlyRepaymentsCountBeforeLoan</th>\n",
              "      <th>GracePeriodStart</th>\n",
              "      <th>GracePeriodEnd</th>\n",
              "      <th>NextPaymentDate</th>\n",
              "      <th>NextPaymentNr</th>\n",
              "      <th>NrOfScheduledPayments</th>\n",
              "      <th>ReScheduledOn</th>\n",
              "      <th>PrincipalDebtServicingCost</th>\n",
              "      <th>InterestAndPenaltyDebtServicingCost</th>\n",
              "      <th>ActiveLateLastPaymentCategory</th>\n",
              "    </tr>\n",
              "  </thead>\n",
              "  <tbody>\n",
              "    <tr>\n",
              "      <th>0</th>\n",
              "      <td>2020-01-27</td>\n",
              "      <td>F0660C80-83F3-4A97-8DA0-9C250112D6EC</td>\n",
              "      <td>659</td>\n",
              "      <td>2009-06-11 16:40:39</td>\n",
              "      <td>2009-06-11 16:40:39</td>\n",
              "      <td>0</td>\n",
              "      <td>0</td>\n",
              "      <td>115.0410</td>\n",
              "      <td>KARU</td>\n",
              "      <td>True</td>\n",
              "      <td>...</td>\n",
              "      <td>0</td>\n",
              "      <td>NaN</td>\n",
              "      <td>NaN</td>\n",
              "      <td>NaN</td>\n",
              "      <td>NaN</td>\n",
              "      <td>NaN</td>\n",
              "      <td>NaN</td>\n",
              "      <td>0.0</td>\n",
              "      <td>0.0</td>\n",
              "      <td>NaN</td>\n",
              "    </tr>\n",
              "    <tr>\n",
              "      <th>1</th>\n",
              "      <td>2020-01-27</td>\n",
              "      <td>978BB85B-1C69-4D51-8447-9C240104A3A2</td>\n",
              "      <td>654</td>\n",
              "      <td>2009-06-10 15:48:57</td>\n",
              "      <td>2009-06-10 15:48:57</td>\n",
              "      <td>0</td>\n",
              "      <td>0</td>\n",
              "      <td>140.6057</td>\n",
              "      <td>koort681</td>\n",
              "      <td>False</td>\n",
              "      <td>...</td>\n",
              "      <td>0</td>\n",
              "      <td>NaN</td>\n",
              "      <td>NaN</td>\n",
              "      <td>NaN</td>\n",
              "      <td>NaN</td>\n",
              "      <td>NaN</td>\n",
              "      <td>NaN</td>\n",
              "      <td>0.0</td>\n",
              "      <td>0.0</td>\n",
              "      <td>NaN</td>\n",
              "    </tr>\n",
              "    <tr>\n",
              "      <th>2</th>\n",
              "      <td>2020-01-27</td>\n",
              "      <td>EA44027E-7FA7-4BB2-846D-9C1F013C8A22</td>\n",
              "      <td>641</td>\n",
              "      <td>2009-06-05 19:12:29</td>\n",
              "      <td>2009-06-05 19:12:29</td>\n",
              "      <td>0</td>\n",
              "      <td>0</td>\n",
              "      <td>319.5580</td>\n",
              "      <td>0ie</td>\n",
              "      <td>True</td>\n",
              "      <td>...</td>\n",
              "      <td>0</td>\n",
              "      <td>NaN</td>\n",
              "      <td>NaN</td>\n",
              "      <td>NaN</td>\n",
              "      <td>NaN</td>\n",
              "      <td>NaN</td>\n",
              "      <td>NaN</td>\n",
              "      <td>0.0</td>\n",
              "      <td>0.0</td>\n",
              "      <td>180+</td>\n",
              "    </tr>\n",
              "    <tr>\n",
              "      <th>3</th>\n",
              "      <td>2020-01-27</td>\n",
              "      <td>CE67AD25-2951-4BEE-96BD-9C2700C61EF4</td>\n",
              "      <td>668</td>\n",
              "      <td>2009-06-13 12:01:20</td>\n",
              "      <td>2009-06-13 12:01:20</td>\n",
              "      <td>0</td>\n",
              "      <td>0</td>\n",
              "      <td>57.5205</td>\n",
              "      <td>Alyona</td>\n",
              "      <td>True</td>\n",
              "      <td>...</td>\n",
              "      <td>0</td>\n",
              "      <td>NaN</td>\n",
              "      <td>NaN</td>\n",
              "      <td>NaN</td>\n",
              "      <td>NaN</td>\n",
              "      <td>NaN</td>\n",
              "      <td>NaN</td>\n",
              "      <td>0.0</td>\n",
              "      <td>0.0</td>\n",
              "      <td>NaN</td>\n",
              "    </tr>\n",
              "    <tr>\n",
              "      <th>4</th>\n",
              "      <td>2020-01-27</td>\n",
              "      <td>9408BF8C-B159-4D6A-9D61-9C2400A986E3</td>\n",
              "      <td>652</td>\n",
              "      <td>2009-06-10 10:17:13</td>\n",
              "      <td>2009-06-10 10:17:13</td>\n",
              "      <td>0</td>\n",
              "      <td>0</td>\n",
              "      <td>319.5582</td>\n",
              "      <td>Kai</td>\n",
              "      <td>True</td>\n",
              "      <td>...</td>\n",
              "      <td>0</td>\n",
              "      <td>NaN</td>\n",
              "      <td>NaN</td>\n",
              "      <td>NaN</td>\n",
              "      <td>NaN</td>\n",
              "      <td>NaN</td>\n",
              "      <td>NaN</td>\n",
              "      <td>0.0</td>\n",
              "      <td>0.0</td>\n",
              "      <td>180+</td>\n",
              "    </tr>\n",
              "  </tbody>\n",
              "</table>\n",
              "<p>5 rows × 112 columns</p>\n",
              "</div>\n",
              "      <button class=\"colab-df-convert\" onclick=\"convertToInteractive('df-ee208431-4395-46ed-9182-cb6368164517')\"\n",
              "              title=\"Convert this dataframe to an interactive table.\"\n",
              "              style=\"display:none;\">\n",
              "        \n",
              "  <svg xmlns=\"http://www.w3.org/2000/svg\" height=\"24px\"viewBox=\"0 0 24 24\"\n",
              "       width=\"24px\">\n",
              "    <path d=\"M0 0h24v24H0V0z\" fill=\"none\"/>\n",
              "    <path d=\"M18.56 5.44l.94 2.06.94-2.06 2.06-.94-2.06-.94-.94-2.06-.94 2.06-2.06.94zm-11 1L8.5 8.5l.94-2.06 2.06-.94-2.06-.94L8.5 2.5l-.94 2.06-2.06.94zm10 10l.94 2.06.94-2.06 2.06-.94-2.06-.94-.94-2.06-.94 2.06-2.06.94z\"/><path d=\"M17.41 7.96l-1.37-1.37c-.4-.4-.92-.59-1.43-.59-.52 0-1.04.2-1.43.59L10.3 9.45l-7.72 7.72c-.78.78-.78 2.05 0 2.83L4 21.41c.39.39.9.59 1.41.59.51 0 1.02-.2 1.41-.59l7.78-7.78 2.81-2.81c.8-.78.8-2.07 0-2.86zM5.41 20L4 18.59l7.72-7.72 1.47 1.35L5.41 20z\"/>\n",
              "  </svg>\n",
              "      </button>\n",
              "      \n",
              "  <style>\n",
              "    .colab-df-container {\n",
              "      display:flex;\n",
              "      flex-wrap:wrap;\n",
              "      gap: 12px;\n",
              "    }\n",
              "\n",
              "    .colab-df-convert {\n",
              "      background-color: #E8F0FE;\n",
              "      border: none;\n",
              "      border-radius: 50%;\n",
              "      cursor: pointer;\n",
              "      display: none;\n",
              "      fill: #1967D2;\n",
              "      height: 32px;\n",
              "      padding: 0 0 0 0;\n",
              "      width: 32px;\n",
              "    }\n",
              "\n",
              "    .colab-df-convert:hover {\n",
              "      background-color: #E2EBFA;\n",
              "      box-shadow: 0px 1px 2px rgba(60, 64, 67, 0.3), 0px 1px 3px 1px rgba(60, 64, 67, 0.15);\n",
              "      fill: #174EA6;\n",
              "    }\n",
              "\n",
              "    [theme=dark] .colab-df-convert {\n",
              "      background-color: #3B4455;\n",
              "      fill: #D2E3FC;\n",
              "    }\n",
              "\n",
              "    [theme=dark] .colab-df-convert:hover {\n",
              "      background-color: #434B5C;\n",
              "      box-shadow: 0px 1px 3px 1px rgba(0, 0, 0, 0.15);\n",
              "      filter: drop-shadow(0px 1px 2px rgba(0, 0, 0, 0.3));\n",
              "      fill: #FFFFFF;\n",
              "    }\n",
              "  </style>\n",
              "\n",
              "      <script>\n",
              "        const buttonEl =\n",
              "          document.querySelector('#df-ee208431-4395-46ed-9182-cb6368164517 button.colab-df-convert');\n",
              "        buttonEl.style.display =\n",
              "          google.colab.kernel.accessAllowed ? 'block' : 'none';\n",
              "\n",
              "        async function convertToInteractive(key) {\n",
              "          const element = document.querySelector('#df-ee208431-4395-46ed-9182-cb6368164517');\n",
              "          const dataTable =\n",
              "            await google.colab.kernel.invokeFunction('convertToInteractive',\n",
              "                                                     [key], {});\n",
              "          if (!dataTable) return;\n",
              "\n",
              "          const docLinkHtml = 'Like what you see? Visit the ' +\n",
              "            '<a target=\"_blank\" href=https://colab.research.google.com/notebooks/data_table.ipynb>data table notebook</a>'\n",
              "            + ' to learn more about interactive tables.';\n",
              "          element.innerHTML = '';\n",
              "          dataTable['output_type'] = 'display_data';\n",
              "          await google.colab.output.renderOutput(dataTable, element);\n",
              "          const docLink = document.createElement('div');\n",
              "          docLink.innerHTML = docLinkHtml;\n",
              "          element.appendChild(docLink);\n",
              "        }\n",
              "      </script>\n",
              "    </div>\n",
              "  </div>\n",
              "  "
            ]
          },
          "metadata": {},
          "execution_count": 6
        }
      ]
    },
    {
      "cell_type": "code",
      "source": [
        "dfs['Status'].value_counts()"
      ],
      "metadata": {
        "colab": {
          "base_uri": "https://localhost:8080/"
        },
        "id": "q4_jdY-FF2hL",
        "outputId": "db41162e-f161-402b-e58d-b17f445883c5"
      },
      "execution_count": 8,
      "outputs": [
        {
          "output_type": "execute_result",
          "data": {
            "text/plain": [
              "Current    57135\n",
              "Late       45772\n",
              "Repaid     31622\n",
              "Name: Status, dtype: int64"
            ]
          },
          "metadata": {},
          "execution_count": 8
        }
      ]
    },
    {
      "cell_type": "markdown",
      "source": [
        "**Percentage Of Missing Values**"
      ],
      "metadata": {
        "id": "y0kCZbzBGegR"
      }
    },
    {
      "cell_type": "code",
      "source": [
        "miss_val = dfs.isnull().sum()\n",
        "miss_val"
      ],
      "metadata": {
        "colab": {
          "base_uri": "https://localhost:8080/"
        },
        "id": "-kLk3AgTF2d6",
        "outputId": "6ca09c01-3314-4ae4-858b-13b06314e903"
      },
      "execution_count": 10,
      "outputs": [
        {
          "output_type": "execute_result",
          "data": {
            "text/plain": [
              "ReportAsOfEOD                              0\n",
              "LoanId                                     0\n",
              "LoanNumber                                 0\n",
              "ListedOnUTC                                0\n",
              "BiddingStartedOn                           0\n",
              "                                       ...  \n",
              "NrOfScheduledPayments                  36741\n",
              "ReScheduledOn                          94207\n",
              "PrincipalDebtServicingCost             75400\n",
              "InterestAndPenaltyDebtServicingCost    75400\n",
              "ActiveLateLastPaymentCategory          82279\n",
              "Length: 112, dtype: int64"
            ]
          },
          "metadata": {},
          "execution_count": 10
        }
      ]
    },
    {
      "cell_type": "code",
      "source": [
        "total_cells = np.product(dfs.shape)\n",
        "total_cells"
      ],
      "metadata": {
        "colab": {
          "base_uri": "https://localhost:8080/"
        },
        "id": "6W9UThSwF2bw",
        "outputId": "86ab6e33-1bc6-4ab3-8448-e10192fe1c33"
      },
      "execution_count": 12,
      "outputs": [
        {
          "output_type": "execute_result",
          "data": {
            "text/plain": [
              "15067248"
            ]
          },
          "metadata": {},
          "execution_count": 12
        }
      ]
    },
    {
      "cell_type": "code",
      "source": [
        "total_missing = miss_val.sum()\n",
        "percent_missing = (total_missing/total_cells)*100\n",
        "percent_missing"
      ],
      "metadata": {
        "colab": {
          "base_uri": "https://localhost:8080/"
        },
        "id": "8sCTqfvaF2ZK",
        "outputId": "b3833e4a-e5e6-485a-c12e-29bd73d27ba7"
      },
      "execution_count": 13,
      "outputs": [
        {
          "output_type": "execute_result",
          "data": {
            "text/plain": [
              "24.374988717249494"
            ]
          },
          "metadata": {},
          "execution_count": 13
        }
      ]
    },
    {
      "cell_type": "markdown",
      "source": [
        "# Creating Target Variable"
      ],
      "metadata": {
        "id": "Suudgrp6HuoQ"
      }
    },
    {
      "cell_type": "code",
      "source": [
        "dfs['Status'].value_counts()"
      ],
      "metadata": {
        "colab": {
          "base_uri": "https://localhost:8080/"
        },
        "id": "srfkrC9IF2XH",
        "outputId": "305b7c18-a575-47bc-bd2c-4c88c696e2ec"
      },
      "execution_count": 15,
      "outputs": [
        {
          "output_type": "execute_result",
          "data": {
            "text/plain": [
              "Current    57135\n",
              "Late       45772\n",
              "Repaid     31622\n",
              "Name: Status, dtype: int64"
            ]
          },
          "metadata": {},
          "execution_count": 15
        }
      ]
    },
    {
      "cell_type": "markdown",
      "source": [
        "**Filter the current status**"
      ],
      "metadata": {
        "id": "OAeslfWJIUoP"
      }
    },
    {
      "cell_type": "code",
      "source": [
        "new_df = dfs[dfs['Status'] != 'Current']"
      ],
      "metadata": {
        "id": "s2ppZIq3IA-x"
      },
      "execution_count": 32,
      "outputs": []
    },
    {
      "cell_type": "code",
      "source": [
        "new_df['default'] =  new_df['Status'].apply(lambda x: 0 if x=='Repaid' else 1)"
      ],
      "metadata": {
        "colab": {
          "base_uri": "https://localhost:8080/"
        },
        "id": "w7DQHqOpIsEP",
        "outputId": "0e8aec18-9818-4d10-da2a-d19b4debe0f8"
      },
      "execution_count": 33,
      "outputs": [
        {
          "output_type": "stream",
          "name": "stderr",
          "text": [
            "/usr/local/lib/python3.7/dist-packages/ipykernel_launcher.py:1: SettingWithCopyWarning: \n",
            "A value is trying to be set on a copy of a slice from a DataFrame.\n",
            "Try using .loc[row_indexer,col_indexer] = value instead\n",
            "\n",
            "See the caveats in the documentation: https://pandas.pydata.org/pandas-docs/stable/user_guide/indexing.html#returning-a-view-versus-a-copy\n",
            "  \"\"\"Entry point for launching an IPython kernel.\n"
          ]
        }
      ]
    },
    {
      "cell_type": "code",
      "source": [
        "new_df['default'].value_counts()"
      ],
      "metadata": {
        "colab": {
          "base_uri": "https://localhost:8080/"
        },
        "id": "lYI6943BLZ9e",
        "outputId": "7f8d3a00-d62f-4d74-e694-c6c07bbb76d9"
      },
      "execution_count": 34,
      "outputs": [
        {
          "output_type": "execute_result",
          "data": {
            "text/plain": [
              "1    45772\n",
              "0    31622\n",
              "Name: default, dtype: int64"
            ]
          },
          "metadata": {},
          "execution_count": 34
        }
      ]
    },
    {
      "cell_type": "code",
      "source": [
        "new_df = new_df.drop(['Status'], axis = 1)"
      ],
      "metadata": {
        "id": "a8qllLcmLfZg"
      },
      "execution_count": 35,
      "outputs": []
    },
    {
      "cell_type": "code",
      "source": [
        "new_df.shape"
      ],
      "metadata": {
        "colab": {
          "base_uri": "https://localhost:8080/"
        },
        "id": "DPQoShrJMfNZ",
        "outputId": "8893cf05-6d27-433a-cc54-5eb25f2fcc37"
      },
      "execution_count": 36,
      "outputs": [
        {
          "output_type": "execute_result",
          "data": {
            "text/plain": [
              "(77394, 112)"
            ]
          },
          "metadata": {},
          "execution_count": 36
        }
      ]
    },
    {
      "cell_type": "code",
      "source": [
        "list(new_df)"
      ],
      "metadata": {
        "colab": {
          "base_uri": "https://localhost:8080/"
        },
        "id": "S9vaSwwXMiTs",
        "outputId": "4383a1dd-3468-4465-c46e-93b078880ef2"
      },
      "execution_count": 37,
      "outputs": [
        {
          "output_type": "execute_result",
          "data": {
            "text/plain": [
              "['ReportAsOfEOD',\n",
              " 'LoanId',\n",
              " 'LoanNumber',\n",
              " 'ListedOnUTC',\n",
              " 'BiddingStartedOn',\n",
              " 'BidsPortfolioManager',\n",
              " 'BidsApi',\n",
              " 'BidsManual',\n",
              " 'UserName',\n",
              " 'NewCreditCustomer',\n",
              " 'LoanApplicationStartedDate',\n",
              " 'LoanDate',\n",
              " 'ContractEndDate',\n",
              " 'FirstPaymentDate',\n",
              " 'MaturityDate_Original',\n",
              " 'MaturityDate_Last',\n",
              " 'ApplicationSignedHour',\n",
              " 'ApplicationSignedWeekday',\n",
              " 'VerificationType',\n",
              " 'LanguageCode',\n",
              " 'Age',\n",
              " 'DateOfBirth',\n",
              " 'Gender',\n",
              " 'Country',\n",
              " 'AppliedAmount',\n",
              " 'Amount',\n",
              " 'Interest',\n",
              " 'LoanDuration',\n",
              " 'MonthlyPayment',\n",
              " 'County',\n",
              " 'City',\n",
              " 'UseOfLoan',\n",
              " 'Education',\n",
              " 'MaritalStatus',\n",
              " 'NrOfDependants',\n",
              " 'EmploymentStatus',\n",
              " 'EmploymentDurationCurrentEmployer',\n",
              " 'EmploymentPosition',\n",
              " 'WorkExperience',\n",
              " 'OccupationArea',\n",
              " 'HomeOwnershipType',\n",
              " 'IncomeFromPrincipalEmployer',\n",
              " 'IncomeFromPension',\n",
              " 'IncomeFromFamilyAllowance',\n",
              " 'IncomeFromSocialWelfare',\n",
              " 'IncomeFromLeavePay',\n",
              " 'IncomeFromChildSupport',\n",
              " 'IncomeOther',\n",
              " 'IncomeTotal',\n",
              " 'ExistingLiabilities',\n",
              " 'LiabilitiesTotal',\n",
              " 'RefinanceLiabilities',\n",
              " 'DebtToIncome',\n",
              " 'FreeCash',\n",
              " 'MonthlyPaymentDay',\n",
              " 'ActiveScheduleFirstPaymentReached',\n",
              " 'PlannedPrincipalTillDate',\n",
              " 'PlannedInterestTillDate',\n",
              " 'LastPaymentOn',\n",
              " 'CurrentDebtDaysPrimary',\n",
              " 'DebtOccuredOn',\n",
              " 'CurrentDebtDaysSecondary',\n",
              " 'DebtOccuredOnForSecondary',\n",
              " 'ExpectedLoss',\n",
              " 'LossGivenDefault',\n",
              " 'ExpectedReturn',\n",
              " 'ProbabilityOfDefault',\n",
              " 'DefaultDate',\n",
              " 'PrincipalOverdueBySchedule',\n",
              " 'PlannedPrincipalPostDefault',\n",
              " 'PlannedInterestPostDefault',\n",
              " 'EAD1',\n",
              " 'EAD2',\n",
              " 'PrincipalRecovery',\n",
              " 'InterestRecovery',\n",
              " 'RecoveryStage',\n",
              " 'StageActiveSince',\n",
              " 'ModelVersion',\n",
              " 'Rating',\n",
              " 'EL_V0',\n",
              " 'Rating_V0',\n",
              " 'EL_V1',\n",
              " 'Rating_V1',\n",
              " 'Rating_V2',\n",
              " 'Restructured',\n",
              " 'ActiveLateCategory',\n",
              " 'WorseLateCategory',\n",
              " 'CreditScoreEsMicroL',\n",
              " 'CreditScoreEsEquifaxRisk',\n",
              " 'CreditScoreFiAsiakasTietoRiskGrade',\n",
              " 'CreditScoreEeMini',\n",
              " 'PrincipalPaymentsMade',\n",
              " 'InterestAndPenaltyPaymentsMade',\n",
              " 'PrincipalWriteOffs',\n",
              " 'InterestAndPenaltyWriteOffs',\n",
              " 'PrincipalBalance',\n",
              " 'InterestAndPenaltyBalance',\n",
              " 'NoOfPreviousLoansBeforeLoan',\n",
              " 'AmountOfPreviousLoansBeforeLoan',\n",
              " 'PreviousRepaymentsBeforeLoan',\n",
              " 'PreviousEarlyRepaymentsBefoleLoan',\n",
              " 'PreviousEarlyRepaymentsCountBeforeLoan',\n",
              " 'GracePeriodStart',\n",
              " 'GracePeriodEnd',\n",
              " 'NextPaymentDate',\n",
              " 'NextPaymentNr',\n",
              " 'NrOfScheduledPayments',\n",
              " 'ReScheduledOn',\n",
              " 'PrincipalDebtServicingCost',\n",
              " 'InterestAndPenaltyDebtServicingCost',\n",
              " 'ActiveLateLastPaymentCategory',\n",
              " 'default']"
            ]
          },
          "metadata": {},
          "execution_count": 37
        }
      ]
    },
    {
      "cell_type": "code",
      "source": [],
      "metadata": {
        "id": "OX7AAFBgPzF0"
      },
      "execution_count": null,
      "outputs": []
    }
  ]
}